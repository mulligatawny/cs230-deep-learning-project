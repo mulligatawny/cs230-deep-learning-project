{
 "cells": [
  {
   "cell_type": "code",
   "execution_count": 1,
   "metadata": {},
   "outputs": [
    {
     "name": "stderr",
     "output_type": "stream",
     "text": [
      "/Users/mulligatawny/anaconda3/envs/pysindy/lib/python3.6/site-packages/tensorflow/python/framework/dtypes.py:523: FutureWarning: Passing (type, 1) or '1type' as a synonym of type is deprecated; in a future version of numpy, it will be understood as (type, (1,)) / '(1,)type'.\n",
      "  _np_qint8 = np.dtype([(\"qint8\", np.int8, 1)])\n",
      "/Users/mulligatawny/anaconda3/envs/pysindy/lib/python3.6/site-packages/tensorflow/python/framework/dtypes.py:524: FutureWarning: Passing (type, 1) or '1type' as a synonym of type is deprecated; in a future version of numpy, it will be understood as (type, (1,)) / '(1,)type'.\n",
      "  _np_quint8 = np.dtype([(\"quint8\", np.uint8, 1)])\n",
      "/Users/mulligatawny/anaconda3/envs/pysindy/lib/python3.6/site-packages/tensorflow/python/framework/dtypes.py:525: FutureWarning: Passing (type, 1) or '1type' as a synonym of type is deprecated; in a future version of numpy, it will be understood as (type, (1,)) / '(1,)type'.\n",
      "  _np_qint16 = np.dtype([(\"qint16\", np.int16, 1)])\n",
      "/Users/mulligatawny/anaconda3/envs/pysindy/lib/python3.6/site-packages/tensorflow/python/framework/dtypes.py:526: FutureWarning: Passing (type, 1) or '1type' as a synonym of type is deprecated; in a future version of numpy, it will be understood as (type, (1,)) / '(1,)type'.\n",
      "  _np_quint16 = np.dtype([(\"quint16\", np.uint16, 1)])\n",
      "/Users/mulligatawny/anaconda3/envs/pysindy/lib/python3.6/site-packages/tensorflow/python/framework/dtypes.py:527: FutureWarning: Passing (type, 1) or '1type' as a synonym of type is deprecated; in a future version of numpy, it will be understood as (type, (1,)) / '(1,)type'.\n",
      "  _np_qint32 = np.dtype([(\"qint32\", np.int32, 1)])\n",
      "/Users/mulligatawny/anaconda3/envs/pysindy/lib/python3.6/site-packages/tensorflow/python/framework/dtypes.py:532: FutureWarning: Passing (type, 1) or '1type' as a synonym of type is deprecated; in a future version of numpy, it will be understood as (type, (1,)) / '(1,)type'.\n",
      "  np_resource = np.dtype([(\"resource\", np.ubyte, 1)])\n"
     ]
    }
   ],
   "source": [
    "import sys\n",
    "sys.path.append(\"../../src\")\n",
    "import os\n",
    "import numpy as np\n",
    "import pickle\n",
    "import scipy.io as sio\n",
    "from example_reactiondiffusion import get_rd_data\n",
    "from autoencoder import full_network\n",
    "from training import create_feed_dictionary\n",
    "from sindy_utils import sindy_simulate\n",
    "import tensorflow as tf\n",
    "import matplotlib.pyplot as plt\n",
    "from mpl_toolkits.mplot3d import Axes3D\n",
    "%matplotlib inline"
   ]
  },
  {
   "cell_type": "code",
   "execution_count": 2,
   "metadata": {},
   "outputs": [],
   "source": [
    "data_path = os.getcwd() + '/'\n",
    "save_name = 'rd_2022_05_30_13_11_37_607562'\n",
    "params = pickle.load(open(data_path + save_name + '_params.pkl', 'rb'))\n",
    "params['save_name'] = data_path + save_name\n",
    "\n",
    "autoencoder_network = full_network(params)\n",
    "learning_rate = tf.placeholder(tf.float32, name='learning_rate')\n",
    "saver = tf.train.Saver(var_list=tf.get_collection(tf.GraphKeys.GLOBAL_VARIABLES))\n",
    "\n",
    "tensorflow_run_tuple = ()\n",
    "for key in autoencoder_network.keys():\n",
    "    tensorflow_run_tuple += (autoencoder_network[key],)"
   ]
  },
  {
   "cell_type": "code",
   "execution_count": 3,
   "metadata": {},
   "outputs": [],
   "source": [
    "_,_,test_data = get_rd_data()"
   ]
  },
  {
   "cell_type": "markdown",
   "metadata": {},
   "source": [
    "## Single trajectory plots"
   ]
  },
  {
   "cell_type": "code",
   "execution_count": 4,
   "metadata": {},
   "outputs": [
    {
     "name": "stdout",
     "output_type": "stream",
     "text": [
      "INFO:tensorflow:Restoring parameters from /Users/mulligatawny/Documents/coursework/cs230/project/SindyAutoencoders/examples/rd/rd_2022_05_30_13_11_37_607562\n"
     ]
    }
   ],
   "source": [
    "with tf.Session() as sess:\n",
    "    sess.run(tf.global_variables_initializer())\n",
    "    saver.restore(sess, data_path + save_name)\n",
    "    test_dictionary = create_feed_dictionary(test_data, params)\n",
    "    tf_results = sess.run(tensorflow_run_tuple, feed_dict=test_dictionary)\n",
    "\n",
    "test_set_results = {}\n",
    "for i,key in enumerate(autoencoder_network.keys()):\n",
    "    test_set_results[key] = tf_results[i]"
   ]
  },
  {
   "cell_type": "code",
   "execution_count": 8,
   "metadata": {},
   "outputs": [
    {
     "name": "stdout",
     "output_type": "stream",
     "text": [
      "[[-0.0000000e+00 -0.0000000e+00 -0.0000000e+00]\n",
      " [ 1.1692642e+00  1.4910512e+00  2.9933414e-01]\n",
      " [ 1.8801558e+00  2.2959344e+00  1.3941373e+00]\n",
      " [ 1.0010359e+00  1.6967338e-01  9.7429745e-02]\n",
      " [ 8.0141366e-01  5.0198692e-01  3.6688004e-02]\n",
      " [ 8.8006836e-01  3.6204660e-01 -3.8306955e-02]\n",
      " [-7.7531561e-02  3.7529165e-01  1.1237118e-01]\n",
      " [ 8.3179188e-01  1.9491398e-01 -1.0276251e-03]\n",
      " [ 0.0000000e+00  2.2764029e-01  9.9645831e-02]\n",
      " [ 0.0000000e+00 -1.0406832e-01 -6.1879687e-02]\n",
      " [ 9.5639479e-01  8.8199562e-01  9.0998960e-01]\n",
      " [ 9.1376030e-01  8.3287483e-01  8.8012636e-01]\n",
      " [ 7.7423185e-01  8.2698667e-01  7.9660875e-01]\n",
      " [ 8.2772052e-01  8.0322206e-01  7.9220790e-01]\n",
      " [ 6.1875492e-01  7.3034173e-01  3.8115877e-01]\n",
      " [ 2.0929345e-01 -2.3448966e-02 -2.3816645e-02]\n",
      " [ 7.9654956e-01  9.0530765e-01  7.1956033e-01]\n",
      " [ 6.2934840e-01  7.4293017e-01  1.0158103e-01]\n",
      " [ 3.9917770e-01 -3.9635148e-02 -5.3037222e-02]\n",
      " [-1.5310779e-02  2.2211945e-02  2.6513265e-02]\n",
      " [ 9.9265945e-01  9.9091387e-01  9.9049932e-01]\n",
      " [ 1.0027872e+00  9.8855895e-01  9.8723108e-01]\n",
      " [ 9.8692006e-01  9.8780274e-01  9.8829484e-01]\n",
      " [ 9.7781777e-01  9.1766733e-01  9.3589640e-01]\n",
      " [ 9.8503852e-01  9.9317169e-01  9.9596357e-01]\n",
      " [ 9.2863047e-01  9.3185520e-01  9.3343848e-01]\n",
      " [ 9.7522485e-01  9.0546495e-01  9.3967819e-01]\n",
      " [ 9.1273934e-01  9.8308301e-01  9.8805124e-01]\n",
      " [ 8.2008517e-01  8.2765657e-01  8.3031076e-01]\n",
      " [ 4.8533732e-01  4.9620980e-01  4.8776844e-01]\n",
      " [ 9.4341093e-01  9.1682529e-01  9.2929077e-01]\n",
      " [ 8.3832717e-01  1.0557730e+00  1.0163943e+00]\n",
      " [ 8.5980695e-01  8.4237140e-01  8.4463006e-01]\n",
      " [ 7.5806868e-01  7.6897168e-01  7.6916409e-01]\n",
      " [ 5.8978468e-01  5.9600049e-01  5.9271866e-01]]\n"
     ]
    }
   ],
   "source": [
    "print(params['coefficient_mask']*test_set_results['sindy_coefficients'])"
   ]
  },
  {
   "cell_type": "code",
   "execution_count": 5,
   "metadata": {},
   "outputs": [],
   "source": [
    "z_sim = sindy_simulate(test_set_results['z'][0], test_data['t'][:,0],\n",
    "                       params['coefficient_mask']*test_set_results['sindy_coefficients'],\n",
    "                       params['poly_order'], params['include_sine'])"
   ]
  },
  {
   "cell_type": "code",
   "execution_count": 6,
   "metadata": {},
   "outputs": [
    {
     "data": {
      "text/plain": [
       "(-0.45, 9.45, 0.06105849728217728, 0.06890634904453022)"
      ]
     },
     "execution_count": 6,
     "metadata": {},
     "output_type": "execute_result"
    },
    {
     "data": {
      "image/png": "[encoded data removed]",
      "text/plain": [
       "<Figure size 216x144 with 2 Axes>"
      ]
     },
     "metadata": {},
     "output_type": "display_data"
    }
   ],
   "source": [
    "plt.figure(figsize=(3,2))\n",
    "plt.subplot(2,1,1)\n",
    "plt.plot(test_set_results['z'][:,0], 'k', color='#888888', linewidth=2)\n",
    "plt.plot(z_sim[:,0], '--', linewidth=2)\n",
    "plt.xticks([])\n",
    "plt.yticks([])\n",
    "plt.axis('off')\n",
    "\n",
    "plt.subplot(2,1,2)\n",
    "plt.plot(test_set_results['z'][:,1], color='#888888', linewidth=2)\n",
    "plt.plot(z_sim[:,1], '--', linewidth=2)\n",
    "plt.xticks([])\n",
    "plt.yticks([])\n",
    "plt.axis('off')"
   ]
  },
  {
   "cell_type": "code",
   "execution_count": 7,
   "metadata": {},
   "outputs": [
    {
     "data": {
      "text/plain": [
       "([], [])"
      ]
     },
     "execution_count": 7,
     "metadata": {},
     "output_type": "execute_result"
    },
    {
     "data": {
      "image/png": "[encoded data removed]",
      "text/plain": [
       "<Figure size 216x216 with 1 Axes>"
      ]
     },
     "metadata": {},
     "output_type": "display_data"
    }
   ],
   "source": [
    "plt.figure(figsize=(3,3))\n",
    "plt.plot(z_sim[:,0], z_sim[:,1], linewidth=2)\n",
    "plt.axis('equal')\n",
    "plt.axis('off')\n",
    "plt.xticks([])\n",
    "plt.yticks([])"
   ]
  },
  {
   "cell_type": "code",
   "execution_count": null,
   "metadata": {},
   "outputs": [],
   "source": [
    "decoder_x_error = np.mean((test_data['x'] - test_set_results['x_decode'])**2)/np.mean(test_data['x']**2)\n",
    "decoder_dx_error = np.mean((test_data['dx'] - test_set_results['dx_decode'])**2)/np.mean(test_data['dx']**2)\n",
    "sindy_dz_error = np.mean((test_set_results['dz'] - test_set_results['dz_predict'])**2)/np.mean(test_set_results['dz']**2)\n",
    "\n",
    "print('Decoder relative error: %f' % decoder_x_error)\n",
    "print('Decoder relative SINDy error: %f' % decoder_dx_error)\n",
    "print('SINDy reltive error, z: %f' % sindy_dz_error)"
   ]
  },
  {
   "cell_type": "code",
   "execution_count": null,
   "metadata": {},
   "outputs": [],
   "source": []
  }
 ],
 "metadata": {
  "kernelspec": {
   "display_name": "Python 3",
   "language": "python",
   "name": "python3"
  },
  "language_info": {
   "codemirror_mode": {
    "name": "ipython",
    "version": 3
   },
   "file_extension": ".py",
   "mimetype": "text/x-python",
   "name": "python",
   "nbconvert_exporter": "python",
   "pygments_lexer": "ipython3",
   "version": "3.6.13"
  },
  "toc": {
   "base_numbering": 1,
   "nav_menu": {},
   "number_sections": true,
   "sideBar": true,
   "skip_h1_title": false,
   "title_cell": "Table of Contents",
   "title_sidebar": "Contents",
   "toc_cell": false,
   "toc_position": {},
   "toc_section_display": true,
   "toc_window_display": false
  },
  "varInspector": {
   "cols": {
    "lenName": 16,
    "lenType": 16,
    "lenVar": 40
   },
   "kernels_config": {
    "python": {
     "delete_cmd_postfix": "",
     "delete_cmd_prefix": "del ",
     "library": "var_list.py",
     "varRefreshCmd": "print(var_dic_list())"
    },
    "r": {
     "delete_cmd_postfix": ") ",
     "delete_cmd_prefix": "rm(",
     "library": "var_list.r",
     "varRefreshCmd": "cat(var_dic_list()) "
    }
   },
   "types_to_exclude": [
    "module",
    "function",
    "builtin_function_or_method",
    "instance",
    "_Feature"
   ],
   "window_display": false
  }
 },
 "nbformat": 4,
 "nbformat_minor": 2
}
